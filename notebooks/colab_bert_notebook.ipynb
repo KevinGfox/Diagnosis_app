{
  "nbformat": 4,
  "nbformat_minor": 0,
  "metadata": {
    "colab": {
      "provenance": [],
      "gpuType": "T4"
    },
    "kernelspec": {
      "name": "python3",
      "display_name": "Python 3"
    },
    "language_info": {
      "name": "python"
    },
    "accelerator": "GPU",
    "widgets": {
      "application/vnd.jupyter.widget-state+json": {
        "6b7b046e46b249ab83329f785bf79fec": {
          "model_module": "@jupyter-widgets/controls",
          "model_name": "HBoxModel",
          "model_module_version": "1.5.0",
          "state": {
            "_dom_classes": [],
            "_model_module": "@jupyter-widgets/controls",
            "_model_module_version": "1.5.0",
            "_model_name": "HBoxModel",
            "_view_count": null,
            "_view_module": "@jupyter-widgets/controls",
            "_view_module_version": "1.5.0",
            "_view_name": "HBoxView",
            "box_style": "",
            "children": [
              "IPY_MODEL_6fe2a5aff52a4c2e9820d948b1fedffe",
              "IPY_MODEL_7d7cb6cd29644f0b8d7fd87c2b60e0ff",
              "IPY_MODEL_d84b50fc84824841b6578d557b639ba6"
            ],
            "layout": "IPY_MODEL_45a02b5b46d84cefa015711f1ebbce0d"
          }
        },
        "6fe2a5aff52a4c2e9820d948b1fedffe": {
          "model_module": "@jupyter-widgets/controls",
          "model_name": "HTMLModel",
          "model_module_version": "1.5.0",
          "state": {
            "_dom_classes": [],
            "_model_module": "@jupyter-widgets/controls",
            "_model_module_version": "1.5.0",
            "_model_name": "HTMLModel",
            "_view_count": null,
            "_view_module": "@jupyter-widgets/controls",
            "_view_module_version": "1.5.0",
            "_view_name": "HTMLView",
            "description": "",
            "description_tooltip": null,
            "layout": "IPY_MODEL_e1a39637579745919ccda64ce4763a2b",
            "placeholder": "​",
            "style": "IPY_MODEL_5fc3ea58976248d49d117ab456ab3c86",
            "value": "model.safetensors: 100%"
          }
        },
        "7d7cb6cd29644f0b8d7fd87c2b60e0ff": {
          "model_module": "@jupyter-widgets/controls",
          "model_name": "FloatProgressModel",
          "model_module_version": "1.5.0",
          "state": {
            "_dom_classes": [],
            "_model_module": "@jupyter-widgets/controls",
            "_model_module_version": "1.5.0",
            "_model_name": "FloatProgressModel",
            "_view_count": null,
            "_view_module": "@jupyter-widgets/controls",
            "_view_module_version": "1.5.0",
            "_view_name": "ProgressView",
            "bar_style": "success",
            "description": "",
            "description_tooltip": null,
            "layout": "IPY_MODEL_388e9cecc93a4f778e619b6fb637edc1",
            "max": 435755784,
            "min": 0,
            "orientation": "horizontal",
            "style": "IPY_MODEL_3c78474b005c4e7f9db70fb0469a0a04",
            "value": 435755784
          }
        },
        "d84b50fc84824841b6578d557b639ba6": {
          "model_module": "@jupyter-widgets/controls",
          "model_name": "HTMLModel",
          "model_module_version": "1.5.0",
          "state": {
            "_dom_classes": [],
            "_model_module": "@jupyter-widgets/controls",
            "_model_module_version": "1.5.0",
            "_model_name": "HTMLModel",
            "_view_count": null,
            "_view_module": "@jupyter-widgets/controls",
            "_view_module_version": "1.5.0",
            "_view_name": "HTMLView",
            "description": "",
            "description_tooltip": null,
            "layout": "IPY_MODEL_bd7b80ea90094895b5d17e44cd67b6de",
            "placeholder": "​",
            "style": "IPY_MODEL_6bd0cba012384844bbcdbc069b1db221",
            "value": " 436M/436M [00:05&lt;00:00, 109MB/s]"
          }
        },
        "45a02b5b46d84cefa015711f1ebbce0d": {
          "model_module": "@jupyter-widgets/base",
          "model_name": "LayoutModel",
          "model_module_version": "1.2.0",
          "state": {
            "_model_module": "@jupyter-widgets/base",
            "_model_module_version": "1.2.0",
            "_model_name": "LayoutModel",
            "_view_count": null,
            "_view_module": "@jupyter-widgets/base",
            "_view_module_version": "1.2.0",
            "_view_name": "LayoutView",
            "align_content": null,
            "align_items": null,
            "align_self": null,
            "border": null,
            "bottom": null,
            "display": null,
            "flex": null,
            "flex_flow": null,
            "grid_area": null,
            "grid_auto_columns": null,
            "grid_auto_flow": null,
            "grid_auto_rows": null,
            "grid_column": null,
            "grid_gap": null,
            "grid_row": null,
            "grid_template_areas": null,
            "grid_template_columns": null,
            "grid_template_rows": null,
            "height": null,
            "justify_content": null,
            "justify_items": null,
            "left": null,
            "margin": null,
            "max_height": null,
            "max_width": null,
            "min_height": null,
            "min_width": null,
            "object_fit": null,
            "object_position": null,
            "order": null,
            "overflow": null,
            "overflow_x": null,
            "overflow_y": null,
            "padding": null,
            "right": null,
            "top": null,
            "visibility": null,
            "width": null
          }
        },
        "e1a39637579745919ccda64ce4763a2b": {
          "model_module": "@jupyter-widgets/base",
          "model_name": "LayoutModel",
          "model_module_version": "1.2.0",
          "state": {
            "_model_module": "@jupyter-widgets/base",
            "_model_module_version": "1.2.0",
            "_model_name": "LayoutModel",
            "_view_count": null,
            "_view_module": "@jupyter-widgets/base",
            "_view_module_version": "1.2.0",
            "_view_name": "LayoutView",
            "align_content": null,
            "align_items": null,
            "align_self": null,
            "border": null,
            "bottom": null,
            "display": null,
            "flex": null,
            "flex_flow": null,
            "grid_area": null,
            "grid_auto_columns": null,
            "grid_auto_flow": null,
            "grid_auto_rows": null,
            "grid_column": null,
            "grid_gap": null,
            "grid_row": null,
            "grid_template_areas": null,
            "grid_template_columns": null,
            "grid_template_rows": null,
            "height": null,
            "justify_content": null,
            "justify_items": null,
            "left": null,
            "margin": null,
            "max_height": null,
            "max_width": null,
            "min_height": null,
            "min_width": null,
            "object_fit": null,
            "object_position": null,
            "order": null,
            "overflow": null,
            "overflow_x": null,
            "overflow_y": null,
            "padding": null,
            "right": null,
            "top": null,
            "visibility": null,
            "width": null
          }
        },
        "5fc3ea58976248d49d117ab456ab3c86": {
          "model_module": "@jupyter-widgets/controls",
          "model_name": "DescriptionStyleModel",
          "model_module_version": "1.5.0",
          "state": {
            "_model_module": "@jupyter-widgets/controls",
            "_model_module_version": "1.5.0",
            "_model_name": "DescriptionStyleModel",
            "_view_count": null,
            "_view_module": "@jupyter-widgets/base",
            "_view_module_version": "1.2.0",
            "_view_name": "StyleView",
            "description_width": ""
          }
        },
        "388e9cecc93a4f778e619b6fb637edc1": {
          "model_module": "@jupyter-widgets/base",
          "model_name": "LayoutModel",
          "model_module_version": "1.2.0",
          "state": {
            "_model_module": "@jupyter-widgets/base",
            "_model_module_version": "1.2.0",
            "_model_name": "LayoutModel",
            "_view_count": null,
            "_view_module": "@jupyter-widgets/base",
            "_view_module_version": "1.2.0",
            "_view_name": "LayoutView",
            "align_content": null,
            "align_items": null,
            "align_self": null,
            "border": null,
            "bottom": null,
            "display": null,
            "flex": null,
            "flex_flow": null,
            "grid_area": null,
            "grid_auto_columns": null,
            "grid_auto_flow": null,
            "grid_auto_rows": null,
            "grid_column": null,
            "grid_gap": null,
            "grid_row": null,
            "grid_template_areas": null,
            "grid_template_columns": null,
            "grid_template_rows": null,
            "height": null,
            "justify_content": null,
            "justify_items": null,
            "left": null,
            "margin": null,
            "max_height": null,
            "max_width": null,
            "min_height": null,
            "min_width": null,
            "object_fit": null,
            "object_position": null,
            "order": null,
            "overflow": null,
            "overflow_x": null,
            "overflow_y": null,
            "padding": null,
            "right": null,
            "top": null,
            "visibility": null,
            "width": null
          }
        },
        "3c78474b005c4e7f9db70fb0469a0a04": {
          "model_module": "@jupyter-widgets/controls",
          "model_name": "ProgressStyleModel",
          "model_module_version": "1.5.0",
          "state": {
            "_model_module": "@jupyter-widgets/controls",
            "_model_module_version": "1.5.0",
            "_model_name": "ProgressStyleModel",
            "_view_count": null,
            "_view_module": "@jupyter-widgets/base",
            "_view_module_version": "1.2.0",
            "_view_name": "StyleView",
            "bar_color": null,
            "description_width": ""
          }
        },
        "bd7b80ea90094895b5d17e44cd67b6de": {
          "model_module": "@jupyter-widgets/base",
          "model_name": "LayoutModel",
          "model_module_version": "1.2.0",
          "state": {
            "_model_module": "@jupyter-widgets/base",
            "_model_module_version": "1.2.0",
            "_model_name": "LayoutModel",
            "_view_count": null,
            "_view_module": "@jupyter-widgets/base",
            "_view_module_version": "1.2.0",
            "_view_name": "LayoutView",
            "align_content": null,
            "align_items": null,
            "align_self": null,
            "border": null,
            "bottom": null,
            "display": null,
            "flex": null,
            "flex_flow": null,
            "grid_area": null,
            "grid_auto_columns": null,
            "grid_auto_flow": null,
            "grid_auto_rows": null,
            "grid_column": null,
            "grid_gap": null,
            "grid_row": null,
            "grid_template_areas": null,
            "grid_template_columns": null,
            "grid_template_rows": null,
            "height": null,
            "justify_content": null,
            "justify_items": null,
            "left": null,
            "margin": null,
            "max_height": null,
            "max_width": null,
            "min_height": null,
            "min_width": null,
            "object_fit": null,
            "object_position": null,
            "order": null,
            "overflow": null,
            "overflow_x": null,
            "overflow_y": null,
            "padding": null,
            "right": null,
            "top": null,
            "visibility": null,
            "width": null
          }
        },
        "6bd0cba012384844bbcdbc069b1db221": {
          "model_module": "@jupyter-widgets/controls",
          "model_name": "DescriptionStyleModel",
          "model_module_version": "1.5.0",
          "state": {
            "_model_module": "@jupyter-widgets/controls",
            "_model_module_version": "1.5.0",
            "_model_name": "DescriptionStyleModel",
            "_view_count": null,
            "_view_module": "@jupyter-widgets/base",
            "_view_module_version": "1.2.0",
            "_view_name": "StyleView",
            "description_width": ""
          }
        }
      }
    }
  },
  "cells": [
    {
      "cell_type": "code",
      "execution_count": null,
      "metadata": {
        "colab": {
          "base_uri": "https://localhost:8080/"
        },
        "id": "VHcsR5ZEvQwx",
        "outputId": "f437d709-d899-4195-d39a-08eba62aa992"
      },
      "outputs": [
        {
          "output_type": "stream",
          "name": "stdout",
          "text": [
            "Requirement already satisfied: tensorflow in /usr/local/lib/python3.10/dist-packages (2.14.0)\n",
            "Requirement already satisfied: transformers in /usr/local/lib/python3.10/dist-packages (4.35.2)\n",
            "Requirement already satisfied: absl-py>=1.0.0 in /usr/local/lib/python3.10/dist-packages (from tensorflow) (1.4.0)\n",
            "Requirement already satisfied: astunparse>=1.6.0 in /usr/local/lib/python3.10/dist-packages (from tensorflow) (1.6.3)\n",
            "Requirement already satisfied: flatbuffers>=23.5.26 in /usr/local/lib/python3.10/dist-packages (from tensorflow) (23.5.26)\n",
            "Requirement already satisfied: gast!=0.5.0,!=0.5.1,!=0.5.2,>=0.2.1 in /usr/local/lib/python3.10/dist-packages (from tensorflow) (0.5.4)\n",
            "Requirement already satisfied: google-pasta>=0.1.1 in /usr/local/lib/python3.10/dist-packages (from tensorflow) (0.2.0)\n",
            "Requirement already satisfied: h5py>=2.9.0 in /usr/local/lib/python3.10/dist-packages (from tensorflow) (3.9.0)\n",
            "Requirement already satisfied: libclang>=13.0.0 in /usr/local/lib/python3.10/dist-packages (from tensorflow) (16.0.6)\n",
            "Requirement already satisfied: ml-dtypes==0.2.0 in /usr/local/lib/python3.10/dist-packages (from tensorflow) (0.2.0)\n",
            "Requirement already satisfied: numpy>=1.23.5 in /usr/local/lib/python3.10/dist-packages (from tensorflow) (1.23.5)\n",
            "Requirement already satisfied: opt-einsum>=2.3.2 in /usr/local/lib/python3.10/dist-packages (from tensorflow) (3.3.0)\n",
            "Requirement already satisfied: packaging in /usr/local/lib/python3.10/dist-packages (from tensorflow) (23.2)\n",
            "Requirement already satisfied: protobuf!=4.21.0,!=4.21.1,!=4.21.2,!=4.21.3,!=4.21.4,!=4.21.5,<5.0.0dev,>=3.20.3 in /usr/local/lib/python3.10/dist-packages (from tensorflow) (3.20.3)\n",
            "Requirement already satisfied: setuptools in /usr/local/lib/python3.10/dist-packages (from tensorflow) (67.7.2)\n",
            "Requirement already satisfied: six>=1.12.0 in /usr/local/lib/python3.10/dist-packages (from tensorflow) (1.16.0)\n",
            "Requirement already satisfied: termcolor>=1.1.0 in /usr/local/lib/python3.10/dist-packages (from tensorflow) (2.3.0)\n",
            "Requirement already satisfied: typing-extensions>=3.6.6 in /usr/local/lib/python3.10/dist-packages (from tensorflow) (4.5.0)\n",
            "Requirement already satisfied: wrapt<1.15,>=1.11.0 in /usr/local/lib/python3.10/dist-packages (from tensorflow) (1.14.1)\n",
            "Requirement already satisfied: tensorflow-io-gcs-filesystem>=0.23.1 in /usr/local/lib/python3.10/dist-packages (from tensorflow) (0.34.0)\n",
            "Requirement already satisfied: grpcio<2.0,>=1.24.3 in /usr/local/lib/python3.10/dist-packages (from tensorflow) (1.59.3)\n",
            "Requirement already satisfied: tensorboard<2.15,>=2.14 in /usr/local/lib/python3.10/dist-packages (from tensorflow) (2.14.1)\n",
            "Requirement already satisfied: tensorflow-estimator<2.15,>=2.14.0 in /usr/local/lib/python3.10/dist-packages (from tensorflow) (2.14.0)\n",
            "Requirement already satisfied: keras<2.15,>=2.14.0 in /usr/local/lib/python3.10/dist-packages (from tensorflow) (2.14.0)\n",
            "Requirement already satisfied: filelock in /usr/local/lib/python3.10/dist-packages (from transformers) (3.13.1)\n",
            "Requirement already satisfied: huggingface-hub<1.0,>=0.16.4 in /usr/local/lib/python3.10/dist-packages (from transformers) (0.19.4)\n",
            "Requirement already satisfied: pyyaml>=5.1 in /usr/local/lib/python3.10/dist-packages (from transformers) (6.0.1)\n",
            "Requirement already satisfied: regex!=2019.12.17 in /usr/local/lib/python3.10/dist-packages (from transformers) (2023.6.3)\n",
            "Requirement already satisfied: requests in /usr/local/lib/python3.10/dist-packages (from transformers) (2.31.0)\n",
            "Requirement already satisfied: tokenizers<0.19,>=0.14 in /usr/local/lib/python3.10/dist-packages (from transformers) (0.15.0)\n",
            "Requirement already satisfied: safetensors>=0.3.1 in /usr/local/lib/python3.10/dist-packages (from transformers) (0.4.1)\n",
            "Requirement already satisfied: tqdm>=4.27 in /usr/local/lib/python3.10/dist-packages (from transformers) (4.66.1)\n",
            "Requirement already satisfied: wheel<1.0,>=0.23.0 in /usr/local/lib/python3.10/dist-packages (from astunparse>=1.6.0->tensorflow) (0.42.0)\n",
            "Requirement already satisfied: fsspec>=2023.5.0 in /usr/local/lib/python3.10/dist-packages (from huggingface-hub<1.0,>=0.16.4->transformers) (2023.6.0)\n",
            "Requirement already satisfied: google-auth<3,>=1.6.3 in /usr/local/lib/python3.10/dist-packages (from tensorboard<2.15,>=2.14->tensorflow) (2.17.3)\n",
            "Requirement already satisfied: google-auth-oauthlib<1.1,>=0.5 in /usr/local/lib/python3.10/dist-packages (from tensorboard<2.15,>=2.14->tensorflow) (1.0.0)\n",
            "Requirement already satisfied: markdown>=2.6.8 in /usr/local/lib/python3.10/dist-packages (from tensorboard<2.15,>=2.14->tensorflow) (3.5.1)\n",
            "Requirement already satisfied: tensorboard-data-server<0.8.0,>=0.7.0 in /usr/local/lib/python3.10/dist-packages (from tensorboard<2.15,>=2.14->tensorflow) (0.7.2)\n",
            "Requirement already satisfied: werkzeug>=1.0.1 in /usr/local/lib/python3.10/dist-packages (from tensorboard<2.15,>=2.14->tensorflow) (3.0.1)\n",
            "Requirement already satisfied: charset-normalizer<4,>=2 in /usr/local/lib/python3.10/dist-packages (from requests->transformers) (3.3.2)\n",
            "Requirement already satisfied: idna<4,>=2.5 in /usr/local/lib/python3.10/dist-packages (from requests->transformers) (3.6)\n",
            "Requirement already satisfied: urllib3<3,>=1.21.1 in /usr/local/lib/python3.10/dist-packages (from requests->transformers) (2.0.7)\n",
            "Requirement already satisfied: certifi>=2017.4.17 in /usr/local/lib/python3.10/dist-packages (from requests->transformers) (2023.11.17)\n",
            "Requirement already satisfied: cachetools<6.0,>=2.0.0 in /usr/local/lib/python3.10/dist-packages (from google-auth<3,>=1.6.3->tensorboard<2.15,>=2.14->tensorflow) (5.3.2)\n",
            "Requirement already satisfied: pyasn1-modules>=0.2.1 in /usr/local/lib/python3.10/dist-packages (from google-auth<3,>=1.6.3->tensorboard<2.15,>=2.14->tensorflow) (0.3.0)\n",
            "Requirement already satisfied: rsa<5,>=3.1.4 in /usr/local/lib/python3.10/dist-packages (from google-auth<3,>=1.6.3->tensorboard<2.15,>=2.14->tensorflow) (4.9)\n",
            "Requirement already satisfied: requests-oauthlib>=0.7.0 in /usr/local/lib/python3.10/dist-packages (from google-auth-oauthlib<1.1,>=0.5->tensorboard<2.15,>=2.14->tensorflow) (1.3.1)\n",
            "Requirement already satisfied: MarkupSafe>=2.1.1 in /usr/local/lib/python3.10/dist-packages (from werkzeug>=1.0.1->tensorboard<2.15,>=2.14->tensorflow) (2.1.3)\n",
            "Requirement already satisfied: pyasn1<0.6.0,>=0.4.6 in /usr/local/lib/python3.10/dist-packages (from pyasn1-modules>=0.2.1->google-auth<3,>=1.6.3->tensorboard<2.15,>=2.14->tensorflow) (0.5.1)\n",
            "Requirement already satisfied: oauthlib>=3.0.0 in /usr/local/lib/python3.10/dist-packages (from requests-oauthlib>=0.7.0->google-auth-oauthlib<1.1,>=0.5->tensorboard<2.15,>=2.14->tensorflow) (3.2.2)\n"
          ]
        }
      ],
      "source": [
        "!pip install tensorflow transformers"
      ]
    },
    {
      "cell_type": "code",
      "source": [
        "from google.colab import drive\n",
        "drive.mount('/content/drive')"
      ],
      "metadata": {
        "colab": {
          "base_uri": "https://localhost:8080/"
        },
        "id": "QDt05TuvGrgE",
        "outputId": "21f11182-db1a-423c-d6c2-276f75c23ecc"
      },
      "execution_count": null,
      "outputs": [
        {
          "output_type": "stream",
          "name": "stdout",
          "text": [
            "Drive already mounted at /content/drive; to attempt to forcibly remount, call drive.mount(\"/content/drive\", force_remount=True).\n"
          ]
        }
      ]
    },
    {
      "cell_type": "code",
      "source": [
        "import pandas as pd\n",
        "import re\n",
        "import numpy as np\n",
        "from sklearn.model_selection import train_test_split\n",
        "from sklearn.preprocessing import LabelEncoder\n",
        "from transformers import AutoTokenizer, TFAutoModelForSequenceClassification\n",
        "import tensorflow as tf\n",
        "from tensorflow import keras\n",
        "from sklearn.metrics import classification_report"
      ],
      "metadata": {
        "id": "dpjY8qPmHiGp"
      },
      "execution_count": null,
      "outputs": []
    },
    {
      "cell_type": "code",
      "source": [
        "# Load and preprocess the data\n",
        "df_train = pd.read_json(path_or_buf='/content/drive/MyDrive/Diagnosis/train.jsonl', lines=True)\n",
        "df_test = pd.read_json(path_or_buf='/content/drive/MyDrive/Diagnosis/test.jsonl', lines=True)\n"
      ],
      "metadata": {
        "id": "3ty48qYgHiI3"
      },
      "execution_count": null,
      "outputs": []
    },
    {
      "cell_type": "code",
      "source": [
        "# Encode labels using LabelEncoder\n",
        "label_encoder = LabelEncoder()\n",
        "df_train['encoded_labels'] = label_encoder.fit_transform(df_train['output_text'])\n",
        "df_test['encoded_labels'] = label_encoder.transform(df_test['output_text'])\n"
      ],
      "metadata": {
        "id": "0hHrMvZEbBvo"
      },
      "execution_count": null,
      "outputs": []
    },
    {
      "cell_type": "code",
      "source": [
        "# Text preprocessing function\n",
        "def preprocessing(text):\n",
        "    text_without_tags = re.sub(r'<[^>]+>', ' ', text)\n",
        "    words = text_without_tags.lower().split()\n",
        "    return ' '.join(words)\n",
        "\n",
        "# Apply text preprocessing to train and test data\n",
        "df_train['input_text'] = df_train['input_text'].astype(str).apply(preprocessing)\n",
        "df_test['input_text'] = df_test['input_text'].astype(str).apply(preprocessing)\n"
      ],
      "metadata": {
        "id": "_CtNxd6WbG-Q"
      },
      "execution_count": null,
      "outputs": []
    },
    {
      "cell_type": "code",
      "source": [
        "# Split the data into train and validation sets\n",
        "train_df, val_df = train_test_split(df_train, test_size=0.1, stratify=df_train['output_text'])\n",
        "\n",
        "# Tokenize the text data\n",
        "max_length = 150\n",
        "tokenizer = AutoTokenizer.from_pretrained(\"bert-base-cased\")\n",
        "\n",
        "tokenized_train = tokenizer(list(train_df['input_text']), padding=True, truncation=True, max_length=max_length, return_tensors=\"tf\")\n",
        "tokenized_val = tokenizer(list(val_df['input_text']), padding=True, truncation=True, max_length=max_length, return_tensors=\"tf\")\n",
        "\n",
        "# Convert labels to one-hot encoded format\n",
        "Y_train_encoded = tf.keras.utils.to_categorical(train_df['encoded_labels'], num_classes=len(label_encoder.classes_))\n",
        "Y_val_encoded = tf.keras.utils.to_categorical(val_df['encoded_labels'], num_classes=len(label_encoder.classes_))\n",
        "\n",
        "# Create TensorFlow datasets\n",
        "BATCH_SIZE = 64\n",
        "train_dataset = tf.data.Dataset.from_tensor_slices((\n",
        "    dict(tokenized_train),\n",
        "    Y_train_encoded\n",
        ")).batch(BATCH_SIZE)\n",
        "\n",
        "val_dataset = tf.data.Dataset.from_tensor_slices((\n",
        "    dict(tokenized_val),\n",
        "    Y_val_encoded\n",
        ")).batch(BATCH_SIZE)\n",
        "\n",
        "# Define the model\n",
        "num_classes = len(label_encoder.classes_)\n",
        "int2label = dict(enumerate(label_encoder.classes_))\n",
        "label2int = {v: k for k, v in int2label.items()}\n",
        "\n",
        "model = TFAutoModelForSequenceClassification.from_pretrained(\n",
        "    \"bert-base-cased\",\n",
        "    num_labels=num_classes,\n",
        "    id2label=int2label,\n",
        "    label2id=label2int,\n",
        "    output_attentions=True\n",
        ")\n",
        "\n",
        "model.compile(\n",
        "    loss=keras.losses.CategoricalCrossentropy(from_logits=True),\n",
        "    optimizer=keras.optimizers.Adam(learning_rate=3e-5),\n",
        "    metrics=['accuracy']\n",
        ")\n",
        "\n",
        "# Train the model\n",
        "history = model.fit(\n",
        "    train_dataset,\n",
        "    validation_data=val_dataset,\n",
        "    epochs=20\n",
        ")\n",
        "\n"
      ],
      "metadata": {
        "colab": {
          "base_uri": "https://localhost:8080/",
          "height": 833,
          "referenced_widgets": [
            "6b7b046e46b249ab83329f785bf79fec",
            "6fe2a5aff52a4c2e9820d948b1fedffe",
            "7d7cb6cd29644f0b8d7fd87c2b60e0ff",
            "d84b50fc84824841b6578d557b639ba6",
            "45a02b5b46d84cefa015711f1ebbce0d",
            "e1a39637579745919ccda64ce4763a2b",
            "5fc3ea58976248d49d117ab456ab3c86",
            "388e9cecc93a4f778e619b6fb637edc1",
            "3c78474b005c4e7f9db70fb0469a0a04",
            "bd7b80ea90094895b5d17e44cd67b6de",
            "6bd0cba012384844bbcdbc069b1db221"
          ]
        },
        "id": "U2tik9Tsvezq",
        "outputId": "a1fbf133-73af-4caa-8b9d-e376e58ac65a"
      },
      "execution_count": null,
      "outputs": [
        {
          "output_type": "display_data",
          "data": {
            "text/plain": [
              "model.safetensors:   0%|          | 0.00/436M [00:00<?, ?B/s]"
            ],
            "application/vnd.jupyter.widget-view+json": {
              "version_major": 2,
              "version_minor": 0,
              "model_id": "6b7b046e46b249ab83329f785bf79fec"
            }
          },
          "metadata": {}
        },
        {
          "output_type": "stream",
          "name": "stderr",
          "text": [
            "All PyTorch model weights were used when initializing TFBertForSequenceClassification.\n",
            "\n",
            "Some weights or buffers of the TF 2.0 model TFBertForSequenceClassification were not initialized from the PyTorch model and are newly initialized: ['classifier.weight', 'classifier.bias']\n",
            "You should probably TRAIN this model on a down-stream task to be able to use it for predictions and inference.\n"
          ]
        },
        {
          "output_type": "stream",
          "name": "stdout",
          "text": [
            "Epoch 1/20\n",
            "12/12 [==============================] - 106s 1s/step - loss: 3.0492 - accuracy: 0.0626 - val_loss: 2.9189 - val_accuracy: 0.1628\n",
            "Epoch 2/20\n",
            "12/12 [==============================] - 11s 937ms/step - loss: 2.8373 - accuracy: 0.1591 - val_loss: 2.7792 - val_accuracy: 0.1395\n",
            "Epoch 3/20\n",
            "12/12 [==============================] - 11s 950ms/step - loss: 2.6152 - accuracy: 0.3103 - val_loss: 2.4571 - val_accuracy: 0.3837\n",
            "Epoch 4/20\n",
            "12/12 [==============================] - 11s 961ms/step - loss: 2.2712 - accuracy: 0.5606 - val_loss: 2.1001 - val_accuracy: 0.6395\n",
            "Epoch 5/20\n",
            "12/12 [==============================] - 11s 954ms/step - loss: 1.9054 - accuracy: 0.7353 - val_loss: 1.7304 - val_accuracy: 0.7558\n",
            "Epoch 6/20\n",
            "12/12 [==============================] - 11s 944ms/step - loss: 1.5622 - accuracy: 0.8214 - val_loss: 1.4088 - val_accuracy: 0.8721\n",
            "Epoch 7/20\n",
            "12/12 [==============================] - 11s 962ms/step - loss: 1.2251 - accuracy: 0.9126 - val_loss: 1.0626 - val_accuracy: 0.8953\n",
            "Epoch 8/20\n",
            "12/12 [==============================] - 11s 929ms/step - loss: 0.9274 - accuracy: 0.9583 - val_loss: 0.8456 - val_accuracy: 0.9070\n",
            "Epoch 9/20\n",
            "12/12 [==============================] - 11s 949ms/step - loss: 0.6987 - accuracy: 0.9831 - val_loss: 0.7009 - val_accuracy: 0.9070\n",
            "Epoch 10/20\n",
            "12/12 [==============================] - 12s 966ms/step - loss: 0.5275 - accuracy: 0.9896 - val_loss: 0.5565 - val_accuracy: 0.9535\n",
            "Epoch 11/20\n",
            "12/12 [==============================] - 12s 988ms/step - loss: 0.3994 - accuracy: 0.9922 - val_loss: 0.4432 - val_accuracy: 0.9651\n",
            "Epoch 12/20\n",
            "12/12 [==============================] - 11s 949ms/step - loss: 0.3102 - accuracy: 0.9974 - val_loss: 0.3710 - val_accuracy: 0.9419\n",
            "Epoch 13/20\n",
            "12/12 [==============================] - 11s 939ms/step - loss: 0.2483 - accuracy: 0.9974 - val_loss: 0.3133 - val_accuracy: 0.9651\n",
            "Epoch 14/20\n",
            "12/12 [==============================] - 11s 936ms/step - loss: 0.1985 - accuracy: 0.9987 - val_loss: 0.3025 - val_accuracy: 0.9651\n",
            "Epoch 15/20\n",
            "12/12 [==============================] - 11s 955ms/step - loss: 0.1635 - accuracy: 1.0000 - val_loss: 0.2586 - val_accuracy: 0.9535\n",
            "Epoch 16/20\n",
            "12/12 [==============================] - 11s 935ms/step - loss: 0.1392 - accuracy: 1.0000 - val_loss: 0.2644 - val_accuracy: 0.9419\n",
            "Epoch 17/20\n",
            "12/12 [==============================] - 11s 955ms/step - loss: 0.1153 - accuracy: 1.0000 - val_loss: 0.2614 - val_accuracy: 0.9419\n",
            "Epoch 18/20\n",
            "12/12 [==============================] - 12s 962ms/step - loss: 0.1001 - accuracy: 1.0000 - val_loss: 0.2300 - val_accuracy: 0.9419\n",
            "Epoch 19/20\n",
            "12/12 [==============================] - 11s 958ms/step - loss: 0.0901 - accuracy: 1.0000 - val_loss: 0.2354 - val_accuracy: 0.9419\n",
            "Epoch 20/20\n",
            "12/12 [==============================] - 11s 947ms/step - loss: 0.0810 - accuracy: 1.0000 - val_loss: 0.2215 - val_accuracy: 0.9419\n"
          ]
        }
      ]
    },
    {
      "cell_type": "code",
      "source": [
        "# Evaluate the model on the test set\n",
        "test_x = df_test['input_text'].apply(preprocessing)\n",
        "tokenized_test = tokenizer(list(test_x), padding=True, truncation=True, max_length=max_length, return_tensors=\"tf\")\n",
        "Y_test_encoded = tf.keras.utils.to_categorical(label_encoder.transform(df_test['output_text']), num_classes=num_classes)\n",
        "\n",
        "test_dataset = tf.data.Dataset.from_tensor_slices((\n",
        "    dict(tokenized_test),\n",
        "    Y_test_encoded\n",
        ")).batch(BATCH_SIZE)\n",
        "\n",
        "test_loss, test_accuracy = model.evaluate(test_dataset)\n",
        "print(f'Test Loss: {test_loss}, Test Accuracy: {test_accuracy}')"
      ],
      "metadata": {
        "colab": {
          "base_uri": "https://localhost:8080/"
        },
        "id": "7SXhZh-abStM",
        "outputId": "e0d46aa7-8f69-40bd-bbd7-9092404b9c40"
      },
      "execution_count": null,
      "outputs": [
        {
          "output_type": "stream",
          "name": "stdout",
          "text": [
            "4/4 [==============================] - 4s 228ms/step - loss: 0.1431 - accuracy: 0.9623\n",
            "Test Loss: 0.14306169748306274, Test Accuracy: 0.9622641801834106\n"
          ]
        }
      ]
    },
    {
      "cell_type": "code",
      "source": [
        "#print the classification report for more detailed metrics\n",
        "predictions = model.predict(test_dataset)\n",
        "predicted_labels = tf.argmax(predictions.logits, axis=1)\n",
        "true_labels = tf.argmax(tf.constant(Y_test_encoded), axis=1)\n",
        "\n",
        "print(classification_report(true_labels, predicted_labels, target_names=label_encoder.classes_))"
      ],
      "metadata": {
        "colab": {
          "base_uri": "https://localhost:8080/"
        },
        "id": "azfYoPLQbXv0",
        "outputId": "b200eea7-979c-48be-8c9d-40598c52564d"
      },
      "execution_count": null,
      "outputs": [
        {
          "output_type": "stream",
          "name": "stdout",
          "text": [
            "4/4 [==============================] - 4s 226ms/step\n",
            "                                 precision    recall  f1-score   support\n",
            "\n",
            "                        allergy       1.00      1.00      1.00        10\n",
            "                      arthritis       1.00      1.00      1.00        10\n",
            "               bronchial asthma       0.91      1.00      0.95        10\n",
            "           cervical spondylosis       0.91      1.00      0.95        10\n",
            "                    chicken pox       0.90      0.90      0.90        10\n",
            "                    common cold       1.00      1.00      1.00        10\n",
            "                         dengue       0.89      0.80      0.84        10\n",
            "                       diabetes       0.91      1.00      0.95        10\n",
            "                  drug reaction       1.00      1.00      1.00         8\n",
            "               fungal infection       1.00      1.00      1.00         9\n",
            "gastroesophageal reflux disease       1.00      0.90      0.95        10\n",
            "                   hypertension       0.91      1.00      0.95        10\n",
            "                       impetigo       1.00      1.00      1.00        10\n",
            "                       jaundice       1.00      0.86      0.92         7\n",
            "                        malaria       1.00      1.00      1.00        10\n",
            "                       migraine       1.00      0.90      0.95        10\n",
            "           peptic ulcer disease       0.91      1.00      0.95        10\n",
            "                      pneumonia       1.00      0.90      0.95        10\n",
            "                      psoriasis       1.00      1.00      1.00        10\n",
            "                        typhoid       1.00      0.89      0.94         9\n",
            "        urinary tract infection       0.90      1.00      0.95         9\n",
            "                 varicose veins       1.00      1.00      1.00        10\n",
            "\n",
            "                       accuracy                           0.96       212\n",
            "                      macro avg       0.97      0.96      0.96       212\n",
            "                   weighted avg       0.96      0.96      0.96       212\n",
            "\n"
          ]
        }
      ]
    },
    {
      "cell_type": "code",
      "source": [
        "# Save the model and weights\n",
        "model.save_pretrained('/content/drive/MyDrive/Diagnosis/bert')\n"
      ],
      "metadata": {
        "id": "HxTpDkSGyrUt"
      },
      "execution_count": null,
      "outputs": []
    },
    {
      "cell_type": "code",
      "source": [
        "loaded_model = TFAutoModelForSequenceClassification.from_pretrained('/content/drive/MyDrive/Diagnosis/bert')\n"
      ],
      "metadata": {
        "colab": {
          "base_uri": "https://localhost:8080/"
        },
        "id": "dscW0B7cyx7N",
        "outputId": "45817b9d-18a0-460e-c5ba-ca559f0a5e01"
      },
      "execution_count": null,
      "outputs": [
        {
          "output_type": "stream",
          "name": "stderr",
          "text": [
            "Some layers from the model checkpoint at /content/drive/MyDrive/Diagnosis/bert were not used when initializing TFBertForSequenceClassification: ['dropout_37']\n",
            "- This IS expected if you are initializing TFBertForSequenceClassification from the checkpoint of a model trained on another task or with another architecture (e.g. initializing a BertForSequenceClassification model from a BertForPreTraining model).\n",
            "- This IS NOT expected if you are initializing TFBertForSequenceClassification from the checkpoint of a model that you expect to be exactly identical (initializing a BertForSequenceClassification model from a BertForSequenceClassification model).\n",
            "All the layers of TFBertForSequenceClassification were initialized from the model checkpoint at /content/drive/MyDrive/Diagnosis/bert.\n",
            "If your task is similar to the task the model of the checkpoint was trained on, you can already use TFBertForSequenceClassification for predictions without further training.\n"
          ]
        }
      ]
    },
    {
      "cell_type": "code",
      "source": [
        "input_text = \"I have a hard time swallowing and I feel like food is getting stuck in my throat. I belch a lot and feel bloated. I have a bad taste in my mouth all the time.\"\n"
      ],
      "metadata": {
        "id": "dbwKPyU5yx9K"
      },
      "execution_count": null,
      "outputs": []
    },
    {
      "cell_type": "code",
      "source": [
        "# Preprocess the input text\n",
        "preprocessed_input = preprocessing(input_text)\n",
        "\n",
        "# Tokenize the input text\n",
        "tokenized_input = tokenizer(preprocessed_input, padding=True, truncation=True, max_length=max_length, return_tensors=\"tf\")\n",
        "\n",
        "# Make predictions\n",
        "predictions = loaded_model.predict(dict(tokenized_input))\n",
        "\n",
        "\n",
        "# Get predicted probabilities\n",
        "predicted_probabilities = tf.nn.softmax(predictions.logits, axis=1).numpy()\n",
        "\n",
        "# Get the two most probable classes and their probabilities\n",
        "top_classes_indices = np.argsort(predicted_probabilities[0])[::-1][:2]\n",
        "top_classes = [int2label[i] for i in top_classes_indices]\n",
        "top_probabilities = [predicted_probabilities[0][i] for i in top_classes_indices]\n",
        "\n",
        "print(f'The two most probable classes are: {top_classes}')\n",
        "print(f'With corresponding probabilities: {top_probabilities}')\n"
      ],
      "metadata": {
        "colab": {
          "base_uri": "https://localhost:8080/"
        },
        "id": "g743Wd9Eyx_p",
        "outputId": "b0ee9802-7c63-4dfa-f4e3-fb50bb48b62f"
      },
      "execution_count": null,
      "outputs": [
        {
          "output_type": "stream",
          "name": "stdout",
          "text": [
            "1/1 [==============================] - 0s 200ms/step\n",
            "The two most probable classes are: ['peptic ulcer disease', 'gastroesophageal reflux disease']\n",
            "With corresponding probabilities: [0.8459054, 0.08260557]\n"
          ]
        }
      ]
    }
  ]
}